{
 "cells": [
  {
   "cell_type": "markdown",
   "id": "7017ef98",
   "metadata": {},
   "source": [
    "# Import libraries"
   ]
  },
  {
   "cell_type": "code",
   "execution_count": 1,
   "id": "ad54609f",
   "metadata": {},
   "outputs": [
    {
     "data": {
      "text/plain": [
       "True"
      ]
     },
     "execution_count": 1,
     "metadata": {},
     "output_type": "execute_result"
    }
   ],
   "source": [
    "import yaml\n",
    "import asyncio\n",
    "import nest_asyncio\n",
    "from acp_sdk.client import Client\n",
    "from smolagents import LiteLLMModel\n",
    "from utils.fastacp import AgentCollection, ACPCallingAgent\n",
    "from colorama import Fore\n",
    "from dotenv import load_dotenv\n",
    "\n",
    "nest_asyncio.apply()\n",
    "\n",
    "with open(\"config.yaml\", \"r\") as f:\n",
    "    config = yaml.safe_load(f)\n",
    "\n",
    "load_dotenv() "
   ]
  },
  {
   "cell_type": "markdown",
   "id": "0ae91677",
   "metadata": {},
   "source": [
    "# Test"
   ]
  },
  {
   "cell_type": "markdown",
   "id": "822f5136",
   "metadata": {},
   "source": [
    "## Insurance Agent"
   ]
  },
  {
   "cell_type": "code",
   "execution_count": 2,
   "id": "a44cfc88",
   "metadata": {},
   "outputs": [],
   "source": [
    "async def call_insurance_agent(input) -> None:\n",
    "    async with Client(base_url=\"http://localhost:8001\") as client:\n",
    "        run = await client.run_sync(\n",
    "            agent=\"insurance_agent\", \n",
    "            input=input\n",
    "        )\n",
    "\n",
    "        print(Fore.YELLOW + run.output[0].parts[0].content + Fore.RESET)"
   ]
  },
  {
   "cell_type": "code",
   "execution_count": 3,
   "id": "966b9001",
   "metadata": {},
   "outputs": [
    {
     "name": "stdout",
     "output_type": "stream",
     "text": [
      "\u001b[33mThe waiting period for rehabilitation is 2 months, even if the condition is pre-existing. This waiting period also applies to palliative care and hospital psychiatric treatments.\u001b[39m\n"
     ]
    }
   ],
   "source": [
    "query = \"What is the waiting period for rehabilitation?\"\n",
    "asyncio.run(call_insurance_agent(input=query))"
   ]
  },
  {
   "cell_type": "markdown",
   "id": "5f391ad6",
   "metadata": {},
   "source": [
    "## Health Agent"
   ]
  },
  {
   "cell_type": "code",
   "execution_count": 4,
   "id": "6d7ba9cb",
   "metadata": {},
   "outputs": [],
   "source": [
    "async def call_health_agent(input) -> None:\n",
    "    async with Client(base_url=\"http://localhost:8000\") as client:\n",
    "        run = await client.run_sync(\n",
    "            agent=\"health_agent\", \n",
    "            input=input\n",
    "        )\n",
    "        \n",
    "        print(Fore.LIGHTMAGENTA_EX + run.output[0].parts[0].content + Fore.RESET)"
   ]
  },
  {
   "cell_type": "code",
   "execution_count": 5,
   "id": "60beb771",
   "metadata": {},
   "outputs": [
    {
     "name": "stdout",
     "output_type": "stream",
     "text": [
      "\u001b[95mYes, rehabilitation is necessary and crucial after a shoulder reconstruction to ensure optimal recovery, restore mobility and strength, and prevent future injuries. It typically involves a structured program of physical therapy and exercises.\u001b[39m\n"
     ]
    }
   ],
   "source": [
    "query2 = \"Do I need rehabilitation after a shoulder reconstruction?\"\n",
    "asyncio.run(call_health_agent(input=query2))"
   ]
  },
  {
   "cell_type": "markdown",
   "id": "ed558100",
   "metadata": {},
   "source": [
    "## Router Agent (Workflow)"
   ]
  },
  {
   "cell_type": "code",
   "execution_count": 6,
   "id": "542f5423",
   "metadata": {},
   "outputs": [],
   "source": [
    "model = LiteLLMModel(\n",
    "    model_id=config[\"agents\"][\"router\"][\"llm_model\"],\n",
    "    max_tokens=config[\"agents\"][\"router\"][\"max_tokens\"]\n",
    ")"
   ]
  },
  {
   "cell_type": "code",
   "execution_count": 7,
   "id": "7ac36ec2",
   "metadata": {},
   "outputs": [],
   "source": [
    "async def run_hospital_workflow(input) -> None:\n",
    "    async with Client(base_url=\"http://localhost:8001\") as insurer, Client(base_url=\"http://localhost:8000\") as hospital:\n",
    "        \n",
    "        # Agents discovery\n",
    "        agent_collection = await AgentCollection.from_acp(insurer, hospital)  \n",
    "        acp_agents = {agent.name: {'agent':agent, 'client':client} for client, agent in agent_collection.agents}\n",
    "        print(acp_agents) \n",
    "\n",
    "        # Passing the agents as tools to ACPCallingAgent\n",
    "        acpagent = ACPCallingAgent(\n",
    "            acp_agents=acp_agents, \n",
    "            model=model\n",
    "        )\n",
    "        \n",
    "        # Running the agent with a user query\n",
    "        result = await acpagent.run(input)\n",
    "        print(Fore.YELLOW + f\"Final result: {result}\" + Fore.RESET)"
   ]
  },
  {
   "cell_type": "code",
   "execution_count": 8,
   "id": "aa220437",
   "metadata": {},
   "outputs": [
    {
     "name": "stdout",
     "output_type": "stream",
     "text": [
      "{'insurance_agent': {'agent': Agent(name='insurance_agent', description='This is an agent for questions around policy coverage. \\nUse it to help answer questions on coverage and waiting periods.\\nIt uses a RAG pattern to find answers based on policy documentation.', metadata=Metadata(annotations=None, documentation=None, license=None, programming_language=None, natural_languages=None, framework=None, capabilities=None, domains=None, tags=None, created_at=None, updated_at=None, author=None, contributors=None, links=None, dependencies=None, recommended_models=None)), 'client': <acp_sdk.client.client.Client object at 0x127fb3cb0>}, 'health_agent': {'agent': Agent(name='health_agent', description='This is a CodeAgent which supports the hospital to handle health-based questions for patients. \\nCurrent or prospective patients can use it to find answers about their health and hospital treatments.', metadata=Metadata(annotations=None, documentation=None, license=None, programming_language=None, natural_languages=None, framework=None, capabilities=None, domains=None, tags=None, created_at=None, updated_at=None, author=None, contributors=None, links=None, dependencies=None, recommended_models=None)), 'client': <acp_sdk.client.client.Client object at 0x127e36150>}}\n",
      "[INFO] Step 1/10\n",
      "[DEBUG] Output message of the LLM:\n",
      "[DEBUG] ModelResponse(id='chatcmpl-e471494c-20ce-4869-9109-76d4cd24efb1', created=1751448626, model='gemini-2.5-flash', object='chat.completion', system_fingerprint=None, choices=[Choices(finish_reason='tool_calls', index=0, message=Message(content=None, role='assistant', tool_calls=[ChatCompletionMessageToolCall(index=0, function=Function(arguments='{\"input\": \"Do I need rehabilitation after a shoulder reconstruction?\"}', name='health_agent'), id='call_3c56cd09-e8b0-47bb-89ab-e3c0f32bee08', type='function'), ChatCompletionMessageToolCall(index=0, function=Function(arguments='{\"input\": \"What is the waiting period for rehabilitation after a shoulder reconstruction?\"}', name='insurance_agent'), id='call_5075d8d8-bd96-4e9f-af34-ed0a9dadb2c3', type='function')], function_call=None, provider_specific_fields=None))], usage=Usage(completion_tokens=153, prompt_tokens=487, total_tokens=640, completion_tokens_details=CompletionTokensDetailsWrapper(accepted_prediction_tokens=None, audio_tokens=None, reasoning_tokens=104, rejected_prediction_tokens=None, text_tokens=49), prompt_tokens_details=PromptTokensDetailsWrapper(audio_tokens=None, cached_tokens=None, text_tokens=487, image_tokens=None)), vertex_ai_grounding_metadata=[], vertex_ai_safety_results=[], vertex_ai_citation_metadata=[])\n",
      "[INFO] Calling agent: 'health_agent' with arguments: {\"input\": \"Do I need rehabilitation after a shoulder reconstruction?\"}\n",
      "\u001b[33mTool being called with args: ('{\"input\": \"Do I need rehabilitation after a shoulder reconstruction?\"}',) and kwargs: {'sanitize_inputs_outputs': True}\u001b[39m\n",
      "\u001b[35m{\"input\": \"Do I need rehabilitation after a shoulder reconstruction?\"}\u001b[39m\n",
      "\u001b[31mrun_id=UUID('f5f3d196-aa71-443b-93e8-cc92d1de15a0') agent_name='health_agent' session_id=UUID('0c979ad5-6c8a-44b0-9144-f05e1a68e8f7') status=<RunStatus.COMPLETED: 'completed'> await_request=None output=[Message(parts=[MessagePart(name=None, content_type='text/plain', content='Yes, rehabilitation is crucial and essential after a shoulder reconstruction surgery.', content_encoding='plain', content_url=None)], created_at=datetime.datetime(2025, 7, 2, 9, 30, 31, 329949, tzinfo=TzInfo(UTC)), completed_at=datetime.datetime(2025, 7, 2, 9, 30, 31, 329955, tzinfo=TzInfo(UTC)))] error=None created_at=datetime.datetime(2025, 7, 2, 9, 30, 27, 945698, tzinfo=TzInfo(UTC)) finished_at=datetime.datetime(2025, 7, 2, 9, 30, 31, 334731, tzinfo=TzInfo(UTC))\u001b[39m\n",
      "[DEBUG] Saved to memory: health_agent_response=Yes, rehabilitation is crucial and essential after a shoulder reconstruction surgery.\n",
      "[INFO] Observations: Yes, rehabilitation is crucial and essential after a shoulder reconstruction surgery.\n",
      "[INFO] Step 2/10\n",
      "[DEBUG] Output message of the LLM:\n",
      "[DEBUG] ModelResponse(id='chatcmpl-74f7d1b0-d602-47df-8635-4234822cf9ad', created=1751448631, model='gemini-2.5-flash', object='chat.completion', system_fingerprint=None, choices=[Choices(finish_reason='tool_calls', index=0, message=Message(content=None, role='assistant', tool_calls=[ChatCompletionMessageToolCall(index=0, function=Function(arguments='{\"input\": \"what is the waiting period for shoulder reconstruction rehabilitation from my insurance?\"}', name='insurance_agent'), id='call_eb594503-9792-4cf2-822a-d72de86e8030', type='function')], function_call=None, provider_specific_fields=None))], usage=Usage(completion_tokens=152, prompt_tokens=529, total_tokens=681, completion_tokens_details=CompletionTokensDetailsWrapper(accepted_prediction_tokens=None, audio_tokens=None, reasoning_tokens=125, rejected_prediction_tokens=None, text_tokens=27), prompt_tokens_details=PromptTokensDetailsWrapper(audio_tokens=None, cached_tokens=None, text_tokens=529, image_tokens=None)), vertex_ai_grounding_metadata=[], vertex_ai_safety_results=[], vertex_ai_citation_metadata=[])\n",
      "[INFO] Calling agent: 'insurance_agent' with arguments: {\"input\": \"what is the waiting period for shoulder reconstruction rehabilitation from my insurance?\"}\n",
      "\u001b[33mTool being called with args: ('{\"input\": \"what is the waiting period for shoulder reconstruction rehabilitation from my insurance?\"}',) and kwargs: {'sanitize_inputs_outputs': True}\u001b[39m\n",
      "\u001b[35m{\"input\": \"what is the waiting period for shoulder reconstruction rehabilitation from my insurance?\"}\u001b[39m\n",
      "\u001b[31mrun_id=UUID('c5e7ee6b-b65d-447d-bf78-be5622807f55') agent_name='insurance_agent' session_id=UUID('0a38f521-696f-4cd0-8e01-e905e79ec33c') status=<RunStatus.COMPLETED: 'completed'> await_request=None output=[Message(parts=[MessagePart(name=None, content_type='text/plain', content='The waiting period for shoulder reconstruction rehabilitation from your insurance is 2 months. This waiting period applies to palliative care, rehabilitation, and hospital psychiatric treatments, even if the condition is pre-existing. For other pre-existing conditions, the waiting period is 12 months.', content_encoding='plain', content_url=None)], created_at=datetime.datetime(2025, 7, 2, 9, 30, 37, 66486, tzinfo=TzInfo(UTC)), completed_at=datetime.datetime(2025, 7, 2, 9, 30, 37, 66493, tzinfo=TzInfo(UTC)))] error=None created_at=datetime.datetime(2025, 7, 2, 9, 30, 32, 827030, tzinfo=TzInfo(UTC)) finished_at=datetime.datetime(2025, 7, 2, 9, 30, 37, 68026, tzinfo=TzInfo(UTC))\u001b[39m\n",
      "[DEBUG] Saved to memory: insurance_agent_response=The waiting period for shoulder reconstruction rehabilitation from your insurance is 2 months. This waiting period applies to palliative care, rehabilitation, and hospital psychiatric treatments, even if the condition is pre-existing. For other pre-existing conditions, the waiting period is 12 months.\n",
      "[INFO] Observations: The waiting period for shoulder reconstruction rehabilitation from your insurance is 2 months. This waiting period applies to palliative care, rehabilitation, and hospital psychiatric treatments, even if the condition is pre-existing. For other pre-existing conditions, the waiting period is 12 months.\n",
      "[INFO] Step 3/10\n",
      "[DEBUG] Output message of the LLM:\n",
      "[DEBUG] ModelResponse(id='chatcmpl-dad608bb-95cf-4950-aa9e-7bb623b5c028', created=1751448637, model='gemini-2.5-flash', object='chat.completion', system_fingerprint=None, choices=[Choices(finish_reason='tool_calls', index=0, message=Message(content=None, role='assistant', tool_calls=[ChatCompletionMessageToolCall(index=0, function=Function(arguments='{\"answer\": \"Yes, rehabilitation is crucial and essential after a shoulder reconstruction surgery. The waiting period for shoulder reconstruction rehabilitation from your insurance is 2 months. This waiting period applies to palliative care, rehabilitation, and hospital psychiatric treatments, even if the condition is pre-existing. For other pre-existing conditions, the waiting period is 12 months.\"}', name='final_answer'), id='call_4982687b-8af8-49e1-a681-c7cd480200e8', type='function')], function_call=None, provider_specific_fields=None))], usage=Usage(completion_tokens=274, prompt_tokens=675, total_tokens=949, completion_tokens_details=CompletionTokensDetailsWrapper(accepted_prediction_tokens=None, audio_tokens=None, reasoning_tokens=193, rejected_prediction_tokens=None, text_tokens=81), prompt_tokens_details=PromptTokensDetailsWrapper(audio_tokens=None, cached_tokens=None, text_tokens=675, image_tokens=None)), vertex_ai_grounding_metadata=[], vertex_ai_safety_results=[], vertex_ai_citation_metadata=[])\n",
      "[INFO] Calling agent: 'final_answer' with arguments: {\"answer\": \"Yes, rehabilitation is crucial and essential after a shoulder reconstruction surgery. The waiting period for shoulder reconstruction rehabilitation from your insurance is 2 months. This waiting period applies to palliative care, rehabilitation, and hospital psychiatric treatments, even if the condition is pre-existing. For other pre-existing conditions, the waiting period is 12 months.\"}\n",
      "[INFO] Final answer: {\"answer\": \"Yes, rehabilitation is crucial and essential after a shoulder reconstruction surgery. The waiting period for shoulder reconstruction rehabilitation from your insurance is 2 months. This waiting period applies to palliative care, rehabilitation, and hospital psychiatric treatments, even if the condition is pre-existing. For other pre-existing conditions, the waiting period is 12 months.\"}\n",
      "\u001b[33mFinal result: {\"answer\": \"Yes, rehabilitation is crucial and essential after a shoulder reconstruction surgery. The waiting period for shoulder reconstruction rehabilitation from your insurance is 2 months. This waiting period applies to palliative care, rehabilitation, and hospital psychiatric treatments, even if the condition is pre-existing. For other pre-existing conditions, the waiting period is 12 months.\"}\u001b[39m\n"
     ]
    }
   ],
   "source": [
    "query3 = \"Do i need rehabilitation after a shoulder reconstruction and what is the waiting period from my insurance?\"\n",
    "asyncio.run(run_hospital_workflow(input=query3))"
   ]
  }
 ],
 "metadata": {
  "kernelspec": {
   "display_name": "base",
   "language": "python",
   "name": "python3"
  },
  "language_info": {
   "codemirror_mode": {
    "name": "ipython",
    "version": 3
   },
   "file_extension": ".py",
   "mimetype": "text/x-python",
   "name": "python",
   "nbconvert_exporter": "python",
   "pygments_lexer": "ipython3",
   "version": "3.12.7"
  }
 },
 "nbformat": 4,
 "nbformat_minor": 5
}
